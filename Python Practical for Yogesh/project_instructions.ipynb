{
  "cells": [
    {
      "cell_type": "markdown",
      "metadata": {},
      "source": [
        "# Project Setup Instructions"
      ]
    },
    {
      "cell_type": "markdown",
      "id": "48369ee3",
      "metadata": {},
      "source": [
        "## 1. Set database configuration in `.env` file\n",
        "Before proceeding, set your database configuration in the `.env` file. Example:\n",
        "```env\n",
        "DB_HOST=localhost\n",
        "DB_PORT=3306\n",
        "DB_USER=root\n",
        "DB_PASSWORD=yourpassword\n",
        "DB_NAME=mydatabase\n",
        "```"
      ]
    },
    {
      "cell_type": "markdown",
      "id": "a50dca7e",
      "metadata": {},
      "source": [
        "## 2. Create a virtual environment\n",
        "Use the following command to create a virtual environment:\n",
        "```bash\n",
        "python -m venv env\n",
        "```"
      ]
    },
    {
      "cell_type": "markdown",
      "id": "e24db38b",
      "metadata": {},
      "source": [
        "## 3. Activate the virtual environment and install dependencies\n",
        "Activate the environment and install required packages using the `requirements.txt` file:\n",
        "```bash\n",
        "env\\Scripts\\activate\n",
        "\n",
        "\n",
        "# Install dependencies\n",
        "pip install -r requirements.txt\n",
        "```"
      ]
    },
    {
      "cell_type": "markdown",
      "id": "5c018933",
      "metadata": {},
      "source": [
        "## 4. Change to the app directory\n",
        "```bash\n",
        "cd /app\n",
        "```"
      ]
    },
    {
      "cell_type": "markdown",
      "id": "4c82db94",
      "metadata": {},
      "source": [
        "## 5. Run the FastAPI server\n",
        "Use the following command to run the development server:\n",
        "```bash\n",
        "uvicorn main:app --reload\n",
        "```"
      ]
    },
    {
      "cell_type": "markdown",
      "id": "195213d1",
      "metadata": {},
      "source": [
        "## 6. Create an admin user\n",
        "Use this command to create an admin user:\n",
        "```bash\n",
        "python command.py create_admin\n",
        "```"
      ]
    },
    {
      "cell_type": "markdown",
      "id": "b074c109",
      "metadata": {},
      "source": [
        "## 7. Open API documentation in your browser\n",
        "Visit the following URL to view the FastAPI Swagger documentation:\n",
        "[http://127.0.0.1:8000/docs#/](http://127.0.0.1:8000/docs#/)"
      ]
    }
  ],
  "metadata": {
    "kernelspec": {
      "display_name": "Python 3",
      "language": "python",
      "name": "python3"
    },
    "language_info": {
      "name": "python",
      "version": ""
    }
  },
  "nbformat": 4,
  "nbformat_minor": 5
}
